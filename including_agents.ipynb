{
 "cells": [
  {
   "cell_type": "code",
   "execution_count": 1,
   "metadata": {},
   "outputs": [],
   "source": [
    "\n",
    "import getpass\n",
    "import os\n",
    "\n",
    "os.environ[\"GOOGLE_API_KEY\"] = getpass.getpass(\"Enter your Google AI API key:\")"
   ]
  },
  {
   "cell_type": "code",
   "execution_count": 28,
   "metadata": {},
   "outputs": [],
   "source": [
    "from langchain_google_genai import ChatGoogleGenerativeAI\n",
    "llm = ChatGoogleGenerativeAI(\n",
    "    model=\"gemini-1.5-pro\",\n",
    "    temperature=0.4,\n",
    "    max_tokens=None,\n",
    "    timeout=None,\n",
    "    max_retries=2,\n",
    ")"
   ]
  },
  {
   "cell_type": "code",
   "execution_count": 32,
   "metadata": {},
   "outputs": [],
   "source": [
    "os.environ[\"SERPAPI_API_KEY\"] = getpass.getpass(\"enter your serp api key : \")"
   ]
  },
  {
   "cell_type": "code",
   "execution_count": 36,
   "metadata": {},
   "outputs": [],
   "source": [
    "from langchain.agents import AgentType , load_tools , initialize_agent\n",
    "tools = load_tools([  \"llm-math\" , \"serpapi\"] , llm)"
   ]
  },
  {
   "cell_type": "code",
   "execution_count": 37,
   "metadata": {},
   "outputs": [],
   "source": [
    "agent = initialize_agent(\n",
    "    tools,\n",
    "    llm ,\n",
    "    agent = AgentType.ZERO_SHOT_REACT_DESCRIPTION,\n",
    "    verbose = True\n",
    ")"
   ]
  },
  {
   "cell_type": "code",
   "execution_count": 38,
   "metadata": {},
   "outputs": [
    {
     "name": "stdout",
     "output_type": "stream",
     "text": [
      "\n",
      "\n",
      "\u001b[1m> Entering new AgentExecutor chain...\u001b[0m\n",
      "\u001b[32;1m\u001b[1;3mThought: I need to search for the latest information on Andhra Pradesh's CM and Deputy CM.\n",
      "Action: Search\n",
      "Action Input: CM and Deputy CM of Andhra Pradesh\u001b[0m\n",
      "Observation: \u001b[33;1m\u001b[1;3m['The deputy chief minister of Andhra Pradesh is the deputy to the chief minister ... \"Pawan Kalyan is Andhra Pradesh Deputy CM, key portfolios for the 3 women ...', 'Jana Sena Party president Pawan Kalyan becomes Deputy Chief Minister, overseeing various departments, with well-wishes from officials and ...', 'Andhra Pradesh portfolios: N Chandrababu Naidu keeps Law & Order, Pawan Kalyan named Deputy CM | Full List · Nara Lokesh, son of chief minister ...', 'Two days after the swearing-in ceremony, Chandrababu Naidu announced that Pawan Kalyan is the new deputy chief minister of Andhra Pradesh.', 'Pawan Kalyan has been appointed as the Deputy Chief Minister of Andhra Pradesh, with Chief Minister Nara Chandrababu Naidu naming his son and Mangalagiri MLA ...', 'Andhra Pradesh Chief Minister Chandrababu Naidu named Jana Sena Party chief Pawan Kalyan as deputy Chief Minister. The actor-turned-politician ...', 'Actor-politician Pawan Kalyan took charge as Andhra Pradesh deputy chief minister in Vijaywada on Wednesday. Pawan Kalyan took charge at a ...', 'Jana Sena Party president K. Pawan Kalyan has been appointed as the Deputy Chief Minister of Andhra Pradesh, and the Minister for Panchayat ...', 'Pawan Kalyan is set to take charge as the Deputy Chief Minister in his chambers at the Secretariat on Wednesday.', 'Andhra Pradesh Chief Minister Chandrababu Naidu on Friday appointed JanaSena Party (JSP) president K Pawan Kalyan, 55, as the Deputy CM.']\u001b[0m\n",
      "Thought:\u001b[32;1m\u001b[1;3mThought: The search results indicate that **Pawan Kalyan** is the Deputy CM. I need to find out who the CM is.\n",
      "Action: Search\n",
      "Action Input: Chief Minister of Andhra Pradesh\u001b[0m\n",
      "Observation: \u001b[33;1m\u001b[1;3mN. Chandrababu Naidu\u001b[0m\n",
      "Thought:\u001b[32;1m\u001b[1;3mThought: I now know the CM and Deputy CM of Andhra Pradesh.\n",
      "Final Answer: The Chief Minister of Andhra Pradesh is **N. Chandrababu Naidu**, and the Deputy Chief Minister is **Pawan Kalyan**. \n",
      "\u001b[0m\n",
      "\n",
      "\u001b[1m> Finished chain.\u001b[0m\n"
     ]
    },
    {
     "data": {
      "text/plain": [
       "'The Chief Minister of Andhra Pradesh is **N. Chandrababu Naidu**, and the Deputy Chief Minister is **Pawan Kalyan**.'"
      ]
     },
     "execution_count": 38,
     "metadata": {},
     "output_type": "execute_result"
    }
   ],
   "source": [
    "agent.run(\"who is the cm and deputey cm of andra pradesh now\")"
   ]
  },
  {
   "cell_type": "code",
   "execution_count": 45,
   "metadata": {},
   "outputs": [],
   "source": [
    "from langchain.chains import  ConversationChain\n",
    "conv = ConversationChain(llm = llm)"
   ]
  },
  {
   "cell_type": "code",
   "execution_count": 46,
   "metadata": {},
   "outputs": [
    {
     "data": {
      "text/plain": [
       "\"Hello! You want to know about the latest FIFA World Cup winner?  Argentina took home the trophy in 2022! They beat France in a thrilling penalty shootout after the game finished 3-3. It was Argentina's third World Cup victory, and their first since 1986. Lionel Messi, Argentina's captain, was named the tournament's best player. What an exciting final it was! ⚽🏆🎉 \\n\""
      ]
     },
     "execution_count": 46,
     "metadata": {},
     "output_type": "execute_result"
    }
   ],
   "source": [
    "conv.run(\"hello can you gave the latest winner of world cup\")"
   ]
  },
  {
   "cell_type": "code",
   "execution_count": 47,
   "metadata": {},
   "outputs": [
    {
     "data": {
      "text/plain": [
       "\"AI:  Ah, you're interested in cricket!  My apologies, I jumped the gun with football.  To answer your question, England won the latest Cricket World Cup. They beat New Zealand in a nail-biting final at Lord's in 2019. 🏏🏆 \\n\\nDo you want to know more about that match, or are you interested in another cricket tournament? 😊 \\n\""
      ]
     },
     "execution_count": 47,
     "metadata": {},
     "output_type": "execute_result"
    }
   ],
   "source": [
    "conv.run(\"no i want to know about the cricket\")"
   ]
  },
  {
   "cell_type": "code",
   "execution_count": 49,
   "metadata": {},
   "outputs": [
    {
     "data": {
      "text/plain": [
       "'AI: I\\'d love to! However, I can\\'t actually generate images directly. I\\'m a text-based AI, so my talents lie in processing and generating words, not pictures. \\n\\nHowever, I can point you in the right direction!  If you search online for \"England Cricket Team World Cup 2019 Winners\" you\\'ll find tons of photos from that incredible victory! 📸 \\n\\nWould you like me to help you brainstorm some other search terms?  Maybe you\\'re interested in a specific player celebrating, or a shot of the team lifting the trophy? 😊 \\n'"
      ]
     },
     "execution_count": 49,
     "metadata": {},
     "output_type": "execute_result"
    }
   ],
   "source": [
    "conv.run(\"can you generate a image of the winning pic\")"
   ]
  },
  {
   "cell_type": "code",
   "execution_count": 55,
   "metadata": {},
   "outputs": [
    {
     "data": {
      "text/plain": [
       "[HumanMessage(content='hello can you gave the latest winner of world cup'),\n",
       " AIMessage(content=\"Hello! You want to know about the latest FIFA World Cup winner?  Argentina took home the trophy in 2022! They beat France in a thrilling penalty shootout after the game finished 3-3. It was Argentina's third World Cup victory, and their first since 1986. Lionel Messi, Argentina's captain, was named the tournament's best player. What an exciting final it was! ⚽🏆🎉 \\n\"),\n",
       " HumanMessage(content='no i want to know about the cricket'),\n",
       " AIMessage(content=\"AI:  Ah, you're interested in cricket!  My apologies, I jumped the gun with football.  To answer your question, England won the latest Cricket World Cup. They beat New Zealand in a nail-biting final at Lord's in 2019. 🏏🏆 \\n\\nDo you want to know more about that match, or are you interested in another cricket tournament? 😊 \\n\"),\n",
       " HumanMessage(content='can you generate a image of the winning pic'),\n",
       " AIMessage(content='AI: I\\'d love to! However, I can\\'t actually generate images directly. I\\'m a text-based AI, so my talents lie in processing and generating words, not pictures. \\n\\nHowever, I can point you in the right direction!  If you search online for \"England Cricket Team World Cup 2019 Winners\" you\\'ll find tons of photos from that incredible victory! 📸 \\n\\nWould you like me to help you brainstorm some other search terms?  Maybe you\\'re interested in a specific player celebrating, or a shot of the team lifting the trophy? 😊 \\n')]"
      ]
     },
     "execution_count": 55,
     "metadata": {},
     "output_type": "execute_result"
    }
   ],
   "source": [
    "conv.memory.chat_memory.messages"
   ]
  },
  {
   "cell_type": "code",
   "execution_count": null,
   "metadata": {},
   "outputs": [],
   "source": []
  }
 ],
 "metadata": {
  "kernelspec": {
   "display_name": "Python 3",
   "language": "python",
   "name": "python3"
  },
  "language_info": {
   "codemirror_mode": {
    "name": "ipython",
    "version": 3
   },
   "file_extension": ".py",
   "mimetype": "text/x-python",
   "name": "python",
   "nbconvert_exporter": "python",
   "pygments_lexer": "ipython3",
   "version": "3.12.1"
  }
 },
 "nbformat": 4,
 "nbformat_minor": 2
}
