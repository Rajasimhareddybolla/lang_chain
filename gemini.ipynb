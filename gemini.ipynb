{
 "cells": [
  {
   "cell_type": "code",
   "execution_count": 2,
   "metadata": {},
   "outputs": [],
   "source": [
    "import getpass\n",
    "import os\n",
    "\n",
    "os.environ[\"GOOGLE_API_KEY\"] = getpass.getpass(\"Enter your Google AI API key:\")"
   ]
  },
  {
   "cell_type": "code",
   "execution_count": 4,
   "metadata": {},
   "outputs": [],
   "source": [
    "from langchain_google_genai import ChatGoogleGenerativeAI\n",
    "\n",
    "llm = ChatGoogleGenerativeAI(\n",
    "    model=\"gemini-1.5-pro\",\n",
    "    temperature=0,\n",
    "    max_tokens=None,\n",
    "    timeout=None,\n",
    "    max_retries=2,\n",
    "    # other params...\n",
    ")"
   ]
  },
  {
   "cell_type": "code",
   "execution_count": 8,
   "metadata": {},
   "outputs": [
    {
     "name": "stderr",
     "output_type": "stream",
     "text": [
      "Retrying langchain_google_genai.chat_models._chat_with_retry.<locals>._chat_with_retry in 2.0 seconds as it raised ResourceExhausted: 429 Resource has been exhausted (e.g. check quota)..\n"
     ]
    },
    {
     "data": {
      "text/plain": [
       "AIMessage(content=\"J'adore programmer. \\n\", response_metadata={'prompt_feedback': {'block_reason': 0, 'safety_ratings': []}, 'finish_reason': 'STOP', 'safety_ratings': [{'category': 'HARM_CATEGORY_SEXUALLY_EXPLICIT', 'probability': 'NEGLIGIBLE', 'blocked': False}, {'category': 'HARM_CATEGORY_HATE_SPEECH', 'probability': 'NEGLIGIBLE', 'blocked': False}, {'category': 'HARM_CATEGORY_HARASSMENT', 'probability': 'NEGLIGIBLE', 'blocked': False}, {'category': 'HARM_CATEGORY_DANGEROUS_CONTENT', 'probability': 'NEGLIGIBLE', 'blocked': False}]}, id='run-b69a4f2a-672c-4a29-856f-78f6c48a46a7-0', usage_metadata={'input_tokens': 21, 'output_tokens': 5, 'total_tokens': 26})"
      ]
     },
     "execution_count": 8,
     "metadata": {},
     "output_type": "execute_result"
    }
   ],
   "source": [
    "messages = [\n",
    "    (\n",
    "        \"system\",\n",
    "        \"You are a helpful assistant that translates English to French. Translate the user sentence.\",\n",
    "    ),\n",
    "    (\"human\", \"I love programming.\"),\n",
    "]\n",
    "ai_msg = llm.invoke(messages)\n",
    "ai_msg"
   ]
  },
  {
   "cell_type": "code",
   "execution_count": 1,
   "metadata": {},
   "outputs": [
    {
     "ename": "NameError",
     "evalue": "name 'llm' is not defined",
     "output_type": "error",
     "traceback": [
      "\u001b[0;31m---------------------------------------------------------------------------\u001b[0m",
      "\u001b[0;31mNameError\u001b[0m                                 Traceback (most recent call last)",
      "Cell \u001b[0;32mIn[1], line 8\u001b[0m\n\u001b[1;32m      2\u001b[0m \u001b[38;5;28;01mfrom\u001b[39;00m \u001b[38;5;21;01mlangchain\u001b[39;00m\u001b[38;5;21;01m.\u001b[39;00m\u001b[38;5;21;01mchains\u001b[39;00m \u001b[38;5;28;01mimport\u001b[39;00m LLMChain , SequentialChain\n\u001b[1;32m      4\u001b[0m bakery_prompt \u001b[38;5;241m=\u001b[39m PromptTemplate(\n\u001b[1;32m      5\u001b[0m     input_variables \u001b[38;5;241m=\u001b[39m [\u001b[38;5;124m\"\u001b[39m\u001b[38;5;124mtype\u001b[39m\u001b[38;5;124m\"\u001b[39m],\n\u001b[1;32m      6\u001b[0m     template \u001b[38;5;241m=\u001b[39m \u001b[38;5;124m\"\u001b[39m\u001b[38;5;124mwe are building a restaurent of type \u001b[39m\u001b[38;5;132;01m{type}\u001b[39;00m\u001b[38;5;124m . plz suggest some restaurent names\u001b[39m\u001b[38;5;124m\"\u001b[39m\n\u001b[1;32m      7\u001b[0m )\n\u001b[0;32m----> 8\u001b[0m name_chain \u001b[38;5;241m=\u001b[39m LLMChain(llm \u001b[38;5;241m=\u001b[39m \u001b[43mllm\u001b[49m , prompt \u001b[38;5;241m=\u001b[39m bakery_prompt , output_key \u001b[38;5;241m=\u001b[39m \u001b[38;5;124m\"\u001b[39m\u001b[38;5;124mrest_name\u001b[39m\u001b[38;5;124m\"\u001b[39m)\n",
      "\u001b[0;31mNameError\u001b[0m: name 'llm' is not defined"
     ]
    }
   ],
   "source": [
    "from langchain import PromptTemplate\n",
    "from langchain.chains import LLMChain , SequentialChain\n",
    "\n",
    "bakery_prompt = PromptTemplate(\n",
    "    input_variables = [\"type\"],\n",
    "    template = \"we are building a restaurent of type {type} . plz suggest some restaurent names\"\n",
    ")\n",
    "name_chain = LLMChain(llm = llm , prompt = bakery_prompt , output_key = \"rest_name\")"
   ]
  },
  {
   "cell_type": "code",
   "execution_count": 38,
   "metadata": {},
   "outputs": [],
   "source": [
    "ans =name_chain.run(\"indian\")"
   ]
  },
  {
   "cell_type": "code",
   "execution_count": 39,
   "metadata": {},
   "outputs": [
    {
     "data": {
      "text/plain": [
       "\"Here are some Indian restaurant names, playing with different styles and themes:\\n\\n**Classic & Evocative**\\n\\n* The Spice Merchant\\n* Saffron & Cardamom\\n* The Curry Leaf\\n* Tandoor Nights\\n* Masala House\\n* The Ganges\\n* The Taj\\n\\n**Modern & Chic**\\n\\n* Turmeric & Thyme\\n* Chilli & Mint\\n* The Tiffin Box\\n* Urban Dhaba\\n* Spice Route Bistro\\n* NaanSense\\n* The Chai Stop\\n\\n**Location Specific (If Applicable)**\\n\\n* [Your City/Neighborhood] Spice\\n* The [Local Landmark] Tandoor\\n* [Your Name]'s Kitchen\\n\\n**Fun & Quirky**\\n\\n* Curry Up!\\n* Naan Stop Shop\\n* Butter Chicken Express\\n* Samosa Sunrise\\n* The Pakora Palace\\n\\n**Tips for Choosing the Perfect Name:**\\n\\n* **Easy to Remember & Pronounce:**  Make it simple for people to recall and tell their friends.\\n* **Reflects Your Concept:**  Fine dining, casual, street food? Let the name hint at your style.\\n* **Check Availability:**  Make sure the name isn't already taken (website, social media, etc.).\\n* **Get Feedback:**  Ask friends and family for their opinions on your shortlist. \\n\\nGood luck with your new restaurant! \\n\""
      ]
     },
     "execution_count": 39,
     "metadata": {},
     "output_type": "execute_result"
    }
   ],
   "source": [
    "ans"
   ]
  },
  {
   "cell_type": "code",
   "execution_count": 41,
   "metadata": {},
   "outputs": [],
   "source": [
    "item_prompt = PromptTemplate(\n",
    "    input_variables = [\"rest_name\"],\n",
    "    template = \"recomend some menu list  for our  restaurent name = {rest_name} . gave only recipes by comma saparated\"\n",
    ")\n",
    "item_chain = LLMChain(llm = llm , prompt = item_prompt , output_key= \"item_out\")"
   ]
  },
  {
   "cell_type": "code",
   "execution_count": 30,
   "metadata": {},
   "outputs": [
    {
     "data": {
      "text/plain": [
       "'Here\\'s a menu suggestion for \"Indian Masala,\" focusing on popular and flavorful dishes. I\\'ve organized it into categories for a better flow:\\n\\n**Appetizers (Starters)**\\n\\n* **Vegetarian:** Vegetable Samosas (two pieces), Vegetable Pakoras, Onion Bhaji, Paneer Tikka (grilled cheese), Aloo Tikki Chaat (potato patties with chutneys)\\n* **Non-Vegetarian:** Chicken Samosas (two pieces), Chicken 65, Tandoori Chicken, Seekh Kebab, Fish Pakora\\n\\n**Main Courses**\\n\\n* **Chicken Curries:** Butter Chicken, Chicken Tikka Masala, Chicken Korma, Kadai Chicken, Chicken Vindaloo\\n* **Lamb Curries:** Rogan Josh, Lamb Curry, Saag Gosht (lamb with spinach), Bhuna Gosht\\n* **Seafood Curries:** Fish Curry, Prawn Masala, Goan Fish Curry\\n* **Vegetarian Curries:** Palak Paneer (spinach and cheese), Chana Masala (chickpea curry), Malai Kofta (vegetable balls in creamy sauce), Aloo Gobi (potato and cauliflower), Dal Makhani (creamy lentil curry), Vegetable Biryani\\n* **Biryani (Rice Dishes):** Chicken Biryani, Lamb Biryani, Vegetable Biryani, Prawn Biryani\\n\\n**Breads**\\n\\n* Naan, Garlic Naan, Butter Naan, Tandoori Roti, Lachha Paratha, Onion Kulcha, Poori\\n\\n**Sides**\\n\\n* Raita (yogurt dip), Papadum (crispy lentil wafers), Pickle Tray, Green Salad\\n\\n**Desserts**\\n\\n* Gulab Jamun, Rasmalai, Kheer (rice pudding), Kulfi (Indian ice cream)\\n\\n**Drinks**\\n\\n* Masala Chai, Mango Lassi, Sweet Lassi, Salty Lassi, Soft Drinks, Bottled Water\\n\\n**Example Menu Structure:**\\n\\n**Appetizers**\\n(List your choices from above)\\n\\n**Main Courses**\\n* **Chicken** (List your choices)\\n* **Lamb** (List your choices)\\n* **Seafood** (List your choices)\\n* **Vegetarian** (List your choices)\\n* **Biryani** (List your choices)\\n\\n**Breads & Sides**\\n(List your choices from above)\\n\\n**Desserts & Drinks**\\n(List your choices from above) \\n'"
      ]
     },
     "execution_count": 30,
     "metadata": {},
     "output_type": "execute_result"
    }
   ],
   "source": [
    "item_chain.run(\"indian masala\")"
   ]
  },
  {
   "cell_type": "code",
   "execution_count": 43,
   "metadata": {},
   "outputs": [],
   "source": [
    "chain = SequentialChain(\n",
    "    chains = [name_chain , item_chain],\n",
    "    input_variables = [\"type\"],\n",
    "    output_variables  =[\"rest_name\" , \"item_out\"]\n",
    ")"
   ]
  },
  {
   "cell_type": "code",
   "execution_count": 44,
   "metadata": {},
   "outputs": [
    {
     "name": "stderr",
     "output_type": "stream",
     "text": [
      "/var/folders/j3/sq7yq7fs2rg7s4djgf_3gzzm0000gn/T/ipykernel_10190/3236401727.py:1: LangChainDeprecationWarning: The method `Chain.__call__` was deprecated in langchain 0.1.0 and will be removed in 1.0. Use invoke instead.\n",
      "  chain({\"indian\"})\n"
     ]
    },
    {
     "data": {
      "text/plain": [
       "{'type': {'indian'},\n",
       " 'rest_name': \"Here are some restaurant names for an Indian restaurant, playing with different styles and vibes:\\n\\n**Classic & Elegant**\\n\\n* The Spice Merchant\\n* The Jewel of India\\n* The Maharaja's Table\\n* The Taj Mahal (if permissible in your area)\\n* Saffron & Sandalwood\\n* The Ganges River Cafe\\n\\n**Modern & Trendy**\\n\\n* Masala & Mint\\n* Curry Up Now\\n* Tandoor Nights\\n* The Spice Route\\n* Urban Tiffin\\n* Chilli & Chaat\\n\\n**Location Specific (If Applicable)**\\n\\n* [Your City/Neighborhood] Tandoori\\n* The [Local Landmark] Curry House\\n* [Your Street Name] Spice Market\\n\\n**Playful & Unique**\\n\\n* Naanstop Cravings\\n* Butter Chicken Blues\\n* Samosa Sunrise\\n* Tikka Masala Madness\\n* The Curryosity Corner\\n\\n**Tips for Choosing a Name:**\\n\\n* **Keep it short and memorable.**\\n* **Make sure it's easy to pronounce and spell.**\\n* **Consider your target audience.**\\n* **Check for trademark availability.**\\n* **Get feedback from others.**\\n\\n**Bonus:** Once you have a shortlist, try searching for those names online to see what kind of branding and imagery come up. This can help you visualize your restaurant's identity. \\n\",\n",
       " 'item_out': 'Please provide me with the restaurant name you\\'ve chosen so I can create a fitting menu. I need to understand the restaurant\\'s style and vibe to recommend appropriate dishes. \\n\\nFor example, tell me: \\n\\n\"My restaurant name is **The Spice Route**, and I want a **modern and trendy** vibe.\" \\n\\nThen I can suggest a menu with dishes like:\\n\\n* **Small Plates:**  Crispy Okra Chaat, Tandoori Salmon Tikka, Pulled Lamb Samosa with Mint Chutney \\n* **Large Plates:**  Butter Chicken with Smoked Fenugreek Naan, Goan Fish Curry with Coconut Rice, Tandoori Lamb Chops with Saffron Potatoes\\n* **Desserts:**  Cardamom and Pistachio Kulfi, Chocolate Samosa with Mango Coulis \\n\\nLet\\'s create a delicious menu together! 😊 \\n'}"
      ]
     },
     "execution_count": 44,
     "metadata": {},
     "output_type": "execute_result"
    }
   ],
   "source": [
    "chain({\"indian\"})"
   ]
  },
  {
   "cell_type": "code",
   "execution_count": null,
   "metadata": {},
   "outputs": [],
   "source": []
  },
  {
   "cell_type": "markdown",
   "metadata": {},
   "source": []
  }
 ],
 "metadata": {
  "kernelspec": {
   "display_name": "Python 3",
   "language": "python",
   "name": "python3"
  },
  "language_info": {
   "codemirror_mode": {
    "name": "ipython",
    "version": 3
   },
   "file_extension": ".py",
   "mimetype": "text/x-python",
   "name": "python",
   "nbconvert_exporter": "python",
   "pygments_lexer": "ipython3",
   "version": "3.12.1"
  }
 },
 "nbformat": 4,
 "nbformat_minor": 2
}
